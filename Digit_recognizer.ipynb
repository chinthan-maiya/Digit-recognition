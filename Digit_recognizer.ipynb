{
 "cells": [
  {
   "cell_type": "code",
   "execution_count": 1,
   "metadata": {},
   "outputs": [
    {
     "name": "stderr",
     "output_type": "stream",
     "text": [
      "C:\\Users\\Chinthan\\Anaconda3\\lib\\site-packages\\h5py\\__init__.py:34: FutureWarning: Conversion of the second argument of issubdtype from `float` to `np.floating` is deprecated. In future, it will be treated as `np.float64 == np.dtype(float).type`.\n",
      "  from ._conv import register_converters as _register_converters\n",
      "Using TensorFlow backend.\n"
     ]
    }
   ],
   "source": [
    "from keras.datasets import mnist\n",
    "from keras.models import Sequential\n",
    "from keras.layers import Activation\n",
    "from keras.optimizers import SGD\n",
    "from keras.layers import Dense\n",
    "import keras.utils\n",
    "import matplotlib.pyplot as plt\n",
    "import numpy as np\n"
   ]
  },
  {
   "cell_type": "code",
   "execution_count": 2,
   "metadata": {
    "collapsed": true
   },
   "outputs": [],
   "source": [
    "#Loading data\n",
    "(x_train, y_train), (x_test, y_test) = mnist.load_data()"
   ]
  },
  {
   "cell_type": "code",
   "execution_count": 3,
   "metadata": {
    "collapsed": true
   },
   "outputs": [],
   "source": [
    "#Flattening the images and storing them in a list\n",
    "n=len(x_train)\n",
    "m=len(x_test)\n",
    "train_data=[]\n",
    "train_labels=[]\n",
    "test_data=[]\n",
    "test_labels=[]\n",
    "for i in range(0,n):\n",
    "    train_data.append(x_train[i].flatten())\n",
    "    train_labels.append(y_train[i])\n",
    "    \n",
    "for i in range(0,m):\n",
    "    test_data.append(x_test[i].flatten())\n",
    "    test_labels.append(y_test[i])"
   ]
  },
  {
   "cell_type": "code",
   "execution_count": 4,
   "metadata": {
    "collapsed": true
   },
   "outputs": [],
   "source": [
    "#One hot encoding of the labels\n",
    "onehotlabel_train = keras.utils.to_categorical(train_labels, num_classes=10)\n",
    "onehotlabel_test = keras.utils.to_categorical(test_labels, num_classes=10)"
   ]
  },
  {
   "cell_type": "code",
   "execution_count": 5,
   "metadata": {
    "collapsed": true
   },
   "outputs": [],
   "source": [
    "#Defining the architecture of the network\n",
    "model = Sequential()\n",
    "model.add(Dense(256, input_dim=784, kernel_initializer=\"uniform\",activation=\"relu\"))\n",
    "model.add(Dense(256, kernel_initializer=\"uniform\", activation=\"relu\"))\n",
    "model.add(Dense(10))\n",
    "model.add(Activation(\"softmax\"))\n",
    "sgd=SGD(lr=0.01)\n",
    "model.compile(loss=\"binary_crossentropy\", optimizer=sgd, metrics=[\"accuracy\"])"
   ]
  },
  {
   "cell_type": "code",
   "execution_count": 6,
   "metadata": {},
   "outputs": [
    {
     "name": "stdout",
     "output_type": "stream",
     "text": [
      "Epoch 1/10\n",
      "60000/60000 [==============================] - 5s 89us/step - loss: 0.2419 - acc: 0.9666\n",
      "Epoch 2/10\n",
      "60000/60000 [==============================] - 5s 81us/step - loss: 0.0379 - acc: 0.9887\n",
      "Epoch 3/10\n",
      "60000/60000 [==============================] - 4s 72us/step - loss: 0.0250 - acc: 0.9923\n",
      "Epoch 4/10\n",
      "60000/60000 [==============================] - 5s 77us/step - loss: 0.0183 - acc: 0.9944\n",
      "Epoch 5/10\n",
      "60000/60000 [==============================] - 5s 78us/step - loss: 0.0140 - acc: 0.9957\n",
      "Epoch 6/10\n",
      "60000/60000 [==============================] - 4s 74us/step - loss: 0.0110 - acc: 0.9967\n",
      "Epoch 7/10\n",
      "60000/60000 [==============================] - 5s 79us/step - loss: 0.0088 - acc: 0.9974\n",
      "Epoch 8/10\n",
      "60000/60000 [==============================] - 5s 82us/step - loss: 0.0072 - acc: 0.9981\n",
      "Epoch 9/10\n",
      "60000/60000 [==============================] - 5s 88us/step - loss: 0.0059 - acc: 0.9985\n",
      "Epoch 10/10\n",
      "60000/60000 [==============================] - 5s 86us/step - loss: 0.0049 - acc: 0.9988\n"
     ]
    },
    {
     "data": {
      "text/plain": [
       "<keras.callbacks.History at 0x26c231121d0>"
      ]
     },
     "execution_count": 6,
     "metadata": {},
     "output_type": "execute_result"
    }
   ],
   "source": [
    "#Training the model\n",
    "model.fit(np.array(train_data),np.array(onehotlabel_train), epochs=10, batch_size=128)"
   ]
  },
  {
   "cell_type": "code",
   "execution_count": 7,
   "metadata": {},
   "outputs": [
    {
     "name": "stdout",
     "output_type": "stream",
     "text": [
      "10000/10000 [==============================] - 0s 39us/step\n",
      "Loss=0.0269, Accuracy: 99.1960%\n"
     ]
    }
   ],
   "source": [
    "#Testing the model\n",
    "(loss, accuracy) = model.evaluate(np.array(test_data), np.array(onehotlabel_test), batch_size=128, verbose=1)\n",
    "print(\"Loss={:.4f}, Accuracy: {:.4f}%\".format(loss, accuracy * 100))"
   ]
  },
  {
   "cell_type": "code",
   "execution_count": null,
   "metadata": {
    "collapsed": true
   },
   "outputs": [],
   "source": []
  }
 ],
 "metadata": {
  "kernelspec": {
   "display_name": "Python 3",
   "language": "python",
   "name": "python3"
  },
  "language_info": {
   "codemirror_mode": {
    "name": "ipython",
    "version": 3
   },
   "file_extension": ".py",
   "mimetype": "text/x-python",
   "name": "python",
   "nbconvert_exporter": "python",
   "pygments_lexer": "ipython3",
   "version": "3.6.1"
  }
 },
 "nbformat": 4,
 "nbformat_minor": 2
}
